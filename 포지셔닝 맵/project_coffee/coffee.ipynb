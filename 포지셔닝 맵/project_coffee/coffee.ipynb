{
 "cells": [
  {
   "cell_type": "code",
   "execution_count": 1,
   "metadata": {},
   "outputs": [],
   "source": [
    "from selenium import webdriver\n",
    "from bs4 import BeautifulSoup\n",
    "import time\n",
    "import json\n"
   ]
  },
  {
   "cell_type": "code",
   "execution_count": 2,
   "metadata": {},
   "outputs": [
    {
     "name": "stderr",
     "output_type": "stream",
     "text": [
      "C:\\Users\\user\\AppData\\Local\\Temp\\ipykernel_43580\\1448859903.py:4: DeprecationWarning: executable_path has been deprecated, please pass in a Service object\n",
      "  wd = webdriver.Chrome(\"webdriver/chromedriver.exe\", options=wd_op) #\n"
     ]
    }
   ],
   "source": [
    "url = \"https://www.coffeebeankorea.com/store/store.asp\"\n",
    "wd_op = webdriver.ChromeOptions()\n",
    "wd_op.add_argument(\"headless\")\n",
    "wd = webdriver.Chrome(\"webdriver/chromedriver.exe\", options=wd_op)\n",
    "result =[]"
   ]
  },
  {
   "cell_type": "code",
   "execution_count": 3,
   "metadata": {},
   "outputs": [],
   "source": [
    "for num in range(1,1000):\n",
    "    wd.get(url)\n",
    "    time.sleep(1)\n",
    "    try:\n",
    "        wd.execute_script(\"storePop2(%d)\" %num)\n",
    "        time.sleep(1)\n",
    "        html = wd.page_source\n",
    "        soup = BeautifulSoup(html, \"html.parser\")\n",
    "\n",
    "        store_name_h2 = soup.select('div.store_txt>h2')\n",
    "        store_info_title = soup.select('table.store_table>tbody>tr>th')\n",
    "        store_info_text = soup.select('table.store_table>tbody>tr>td')\n",
    "        #가게명\n",
    "        store_name = store_name_h2[0].string\n",
    "        #가게 영업시간\n",
    "        store_time = store_info_text[0].string\n",
    "        #가게 주소\n",
    "        store_addr = list(store_info_text[2])\n",
    "        store_address = store_addr[0]\n",
    "        #가게 전화번호\n",
    "        store_tell = store_info_text[3].string\n",
    "\n",
    "        result.append([store_name,store_time,store_address,store_tell])\n",
    "    except :\n",
    "        continue"
   ]
  },
  {
   "cell_type": "code",
   "execution_count": null,
   "metadata": {},
   "outputs": [],
   "source": [
    "print(result)"
   ]
  },
  {
   "cell_type": "code",
   "execution_count": 2,
   "metadata": {},
   "outputs": [],
   "source": [
    "import pandas as pd"
   ]
  },
  {
   "cell_type": "code",
   "execution_count": 3,
   "metadata": {},
   "outputs": [
    {
     "ename": "NameError",
     "evalue": "name 'result' is not defined",
     "output_type": "error",
     "traceback": [
      "\u001b[1;31m---------------------------------------------------------------------------\u001b[0m",
      "\u001b[1;31mNameError\u001b[0m                                 Traceback (most recent call last)",
      "Cell \u001b[1;32mIn[3], line 1\u001b[0m\n\u001b[1;32m----> 1\u001b[0m df \u001b[39m=\u001b[39m pd\u001b[39m.\u001b[39mDataFrame(result)\n\u001b[0;32m      2\u001b[0m df \u001b[39m=\u001b[39m df\u001b[39m.\u001b[39mrename(columns\u001b[39m=\u001b[39m{\u001b[39m0\u001b[39m:\u001b[39m\"\u001b[39m\u001b[39m지점\u001b[39m\u001b[39m\"\u001b[39m,\u001b[39m1\u001b[39m:\u001b[39m\"\u001b[39m\u001b[39m영업시간\u001b[39m\u001b[39m\"\u001b[39m,\u001b[39m2\u001b[39m:\u001b[39m\"\u001b[39m\u001b[39m주소\u001b[39m\u001b[39m\"\u001b[39m,\u001b[39m3\u001b[39m:\u001b[39m\"\u001b[39m\u001b[39m전화번호\u001b[39m\u001b[39m\"\u001b[39m})\n",
      "\u001b[1;31mNameError\u001b[0m: name 'result' is not defined"
     ]
    }
   ],
   "source": [
    "df = pd.DataFrame(result)\n",
    "df = df.rename(columns={0:\"지점\",1:\"영업시간\",2:\"주소\",3:\"전화번호\"})"
   ]
  },
  {
   "cell_type": "code",
   "execution_count": 18,
   "metadata": {},
   "outputs": [],
   "source": [
    "df.to_json(\"coffee.json\")\n",
    "df.to_csv(\"coffee.csv\")"
   ]
  },
  {
   "cell_type": "code",
   "execution_count": null,
   "metadata": {},
   "outputs": [],
   "source": []
  }
 ],
 "metadata": {
  "kernelspec": {
   "display_name": "venv",
   "language": "python",
   "name": "python3"
  },
  "language_info": {
   "codemirror_mode": {
    "name": "ipython",
    "version": 3
   },
   "file_extension": ".py",
   "mimetype": "text/x-python",
   "name": "python",
   "nbconvert_exporter": "python",
   "pygments_lexer": "ipython3",
   "version": "3.11.0 (main, Oct 24 2022, 18:26:48) [MSC v.1933 64 bit (AMD64)]"
  },
  "orig_nbformat": 4,
  "vscode": {
   "interpreter": {
    "hash": "5b52aaff1337a5cf64609d4c6f23cbdf2d6aa9e126bb1c4330933ec26b5ac708"
   }
  }
 },
 "nbformat": 4,
 "nbformat_minor": 2
}
